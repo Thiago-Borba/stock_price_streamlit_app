{
 "cells": [
  {
   "cell_type": "code",
   "execution_count": 2,
   "id": "regulation-element",
   "metadata": {},
   "outputs": [],
   "source": [
    "import pandas as pd\n",
    "import yfinance as yf\n",
    "import requests\n",
    "from bs4 import BeautifulSoup\n",
    "#import altair as alt\n",
    "#from typing import Tuple\n",
    "#import plotly.graph_objects as go\n",
    "import pandas as pd\n",
    "from datetime import datetime\n",
    "#import mplfinance as fplt\n",
    "import numpy as np"
   ]
  },
  {
   "cell_type": "code",
   "execution_count": 13,
   "id": "intense-cutting",
   "metadata": {},
   "outputs": [],
   "source": [
    "def y_update_finantial_sheet(dataFrame):\n",
    "    \n",
    "    \n",
    "    simbolos  = list(dataFrame['Symbol'].unique())\n",
    "    \n",
    "    \n",
    "    dataFrame = dataFrame\n",
    "    \n",
    "    lista = [\n",
    "             'longName', \n",
    "             'ebitdaMargins',\n",
    "             'profitMargins', \n",
    "             'revenueGrowth', \n",
    "             'operatingMargins',\n",
    "             'returnOnAssets',\n",
    "             'recommendationKey',\n",
    "             'recommendationMean',\n",
    "             'debtToEquity', \n",
    "             'totalCashPerShare', \n",
    "             'quickRatio', \n",
    "             'exchange',\n",
    "             'beta',\n",
    "             'enterpriseToEbitda', \n",
    "             'enterpriseToRevenue', \n",
    "             'bookValue', \n",
    "             'earningsQuarterlyGrowth', \n",
    "             'forwardPE',\n",
    "             'mostRecentQuarter',\n",
    "             'logo_url']\n",
    "    \n",
    "    for i in lista:\n",
    "        dataFrame[i] = np.nan\n",
    "    \n",
    "    \n",
    "    for i in simbolos:\n",
    "        ticker_info = yf.Ticker(str(i))\n",
    "        info = ticker_info.get_info()\n",
    "        for l in lista:\n",
    "            mask = dataFrame['Symbol'] == i\n",
    "            try:\n",
    "                dataFrame.loc[mask, l] = info[l]\n",
    "            except:\n",
    "                dataFrame.loc[mask, l] = np.nan\n",
    "    \n",
    "    #for i in lista:\n",
    "        #dataFrame[i] = np.nan\n",
    "        \n",
    "    \n",
    "    #for i in lista:\n",
    "        #dataFrame[i] = dataFrame.apply(lambda x: return_info(x['Symbol'],i),axis=1)\n",
    "        \n",
    "    \n",
    "    return dataFrame"
   ]
  },
  {
   "cell_type": "code",
   "execution_count": 4,
   "id": "lesbian-journalist",
   "metadata": {},
   "outputs": [],
   "source": [
    "def num_to_time(date):\n",
    "    try:\n",
    "        timestamp = datetime.fromtimestamp(date).strftime('%Y-%m-%d')\n",
    "    \n",
    "    except:\n",
    "        timestamp = \"No info\"\n",
    "    \n",
    "    return timestamp"
   ]
  },
  {
   "cell_type": "code",
   "execution_count": 1,
   "id": "massive-letters",
   "metadata": {},
   "outputs": [
    {
     "ename": "NameError",
     "evalue": "name 'pd' is not defined",
     "output_type": "error",
     "traceback": [
      "\u001b[0;31m---------------------------------------------------------------------------\u001b[0m",
      "\u001b[0;31mNameError\u001b[0m                                 Traceback (most recent call last)",
      "\u001b[0;32m<ipython-input-1-81462e55b2a4>\u001b[0m in \u001b[0;36m<module>\u001b[0;34m\u001b[0m\n\u001b[0;32m----> 1\u001b[0;31m \u001b[0mdf_nas\u001b[0m \u001b[0;34m=\u001b[0m \u001b[0mpd\u001b[0m\u001b[0;34m.\u001b[0m\u001b[0mread_csv\u001b[0m\u001b[0;34m(\u001b[0m\u001b[0;34m'NASDAQ.csv'\u001b[0m\u001b[0;34m)\u001b[0m\u001b[0;34m\u001b[0m\u001b[0;34m\u001b[0m\u001b[0m\n\u001b[0m",
      "\u001b[0;31mNameError\u001b[0m: name 'pd' is not defined"
     ]
    }
   ],
   "source": [
    "df_nas = pd.read_csv('NASDAQ.csv')"
   ]
  },
  {
   "cell_type": "code",
   "execution_count": 15,
   "id": "postal-cooperation",
   "metadata": {},
   "outputs": [],
   "source": [
    "df_nas = df_nas[['Sector', 'Industry','Name',\"Symbol\",'Volume', 'Market Cap']]"
   ]
  },
  {
   "cell_type": "code",
   "execution_count": null,
   "id": "alternative-signature",
   "metadata": {},
   "outputs": [],
   "source": [
    "teste = y_update_finantial_sheet(df_nas)\n",
    "teste.to_csv('NASDAQ.csv')\n",
    "print('i')"
   ]
  },
  {
   "cell_type": "code",
   "execution_count": 46,
   "id": "cleared-leonard",
   "metadata": {},
   "outputs": [],
   "source": [
    "df_nas['Sector'] = df_nas['Sector'].replace({\"nan\":\"No info\"})"
   ]
  },
  {
   "cell_type": "code",
   "execution_count": null,
   "id": "detailed-variable",
   "metadata": {},
   "outputs": [],
   "source": []
  },
  {
   "cell_type": "code",
   "execution_count": 25,
   "id": "sweet-prescription",
   "metadata": {},
   "outputs": [
    {
     "name": "stdout",
     "output_type": "stream",
     "text": [
      "Capital Goods\n",
      "Basic Industries\n",
      "Finance\n",
      "Miscellaneous\n",
      "nan\n",
      "Transportation\n",
      "Technology\n",
      "Consumer Services\n",
      "Consumer Durables\n",
      "Health Care\n",
      "Consumer Non-Durables\n"
     ]
    },
    {
     "ename": "TypeError",
     "evalue": "'NoneType' object is not iterable",
     "output_type": "error",
     "traceback": [
      "\u001b[0;31m---------------------------------------------------------------------------\u001b[0m",
      "\u001b[0;31mTypeError\u001b[0m                                 Traceback (most recent call last)",
      "\u001b[0;32m<ipython-input-25-e04691eccfae>\u001b[0m in \u001b[0;36m<module>\u001b[0;34m\u001b[0m\n\u001b[1;32m     32\u001b[0m     \u001b[0;32mfor\u001b[0m \u001b[0mi\u001b[0m \u001b[0;32min\u001b[0m \u001b[0msimbolos\u001b[0m\u001b[0;34m:\u001b[0m\u001b[0;34m\u001b[0m\u001b[0;34m\u001b[0m\u001b[0m\n\u001b[1;32m     33\u001b[0m         \u001b[0mticker_info\u001b[0m \u001b[0;34m=\u001b[0m \u001b[0myf\u001b[0m\u001b[0;34m.\u001b[0m\u001b[0mTicker\u001b[0m\u001b[0;34m(\u001b[0m\u001b[0mstr\u001b[0m\u001b[0;34m(\u001b[0m\u001b[0mi\u001b[0m\u001b[0;34m)\u001b[0m\u001b[0;34m)\u001b[0m\u001b[0;34m\u001b[0m\u001b[0;34m\u001b[0m\u001b[0m\n\u001b[0;32m---> 34\u001b[0;31m         \u001b[0minfo\u001b[0m \u001b[0;34m=\u001b[0m \u001b[0mticker_info\u001b[0m\u001b[0;34m.\u001b[0m\u001b[0mget_info\u001b[0m\u001b[0;34m(\u001b[0m\u001b[0;34m)\u001b[0m\u001b[0;34m\u001b[0m\u001b[0;34m\u001b[0m\u001b[0m\n\u001b[0m\u001b[1;32m     35\u001b[0m         \u001b[0;32mfor\u001b[0m \u001b[0ml\u001b[0m \u001b[0;32min\u001b[0m \u001b[0mlista\u001b[0m\u001b[0;34m:\u001b[0m\u001b[0;34m\u001b[0m\u001b[0;34m\u001b[0m\u001b[0m\n\u001b[1;32m     36\u001b[0m             \u001b[0mmask\u001b[0m \u001b[0;34m=\u001b[0m \u001b[0mdf_nas\u001b[0m\u001b[0;34m[\u001b[0m\u001b[0;34m'Symbol'\u001b[0m\u001b[0;34m]\u001b[0m \u001b[0;34m==\u001b[0m \u001b[0mi\u001b[0m\u001b[0;34m\u001b[0m\u001b[0;34m\u001b[0m\u001b[0m\n",
      "\u001b[0;32m/opt/conda/lib/python3.8/site-packages/yfinance/base.py\u001b[0m in \u001b[0;36mget_info\u001b[0;34m(self, proxy, as_dict, *args, **kwargs)\u001b[0m\n\u001b[1;32m    497\u001b[0m \u001b[0;34m\u001b[0m\u001b[0m\n\u001b[1;32m    498\u001b[0m     \u001b[0;32mdef\u001b[0m \u001b[0mget_info\u001b[0m\u001b[0;34m(\u001b[0m\u001b[0mself\u001b[0m\u001b[0;34m,\u001b[0m \u001b[0mproxy\u001b[0m\u001b[0;34m=\u001b[0m\u001b[0;32mNone\u001b[0m\u001b[0;34m,\u001b[0m \u001b[0mas_dict\u001b[0m\u001b[0;34m=\u001b[0m\u001b[0;32mFalse\u001b[0m\u001b[0;34m,\u001b[0m \u001b[0;34m*\u001b[0m\u001b[0margs\u001b[0m\u001b[0;34m,\u001b[0m \u001b[0;34m**\u001b[0m\u001b[0mkwargs\u001b[0m\u001b[0;34m)\u001b[0m\u001b[0;34m:\u001b[0m\u001b[0;34m\u001b[0m\u001b[0;34m\u001b[0m\u001b[0m\n\u001b[0;32m--> 499\u001b[0;31m         \u001b[0mself\u001b[0m\u001b[0;34m.\u001b[0m\u001b[0m_get_fundamentals\u001b[0m\u001b[0;34m(\u001b[0m\u001b[0mproxy\u001b[0m\u001b[0;34m=\u001b[0m\u001b[0mproxy\u001b[0m\u001b[0;34m)\u001b[0m\u001b[0;34m\u001b[0m\u001b[0;34m\u001b[0m\u001b[0m\n\u001b[0m\u001b[1;32m    500\u001b[0m         \u001b[0mdata\u001b[0m \u001b[0;34m=\u001b[0m \u001b[0mself\u001b[0m\u001b[0;34m.\u001b[0m\u001b[0m_info\u001b[0m\u001b[0;34m\u001b[0m\u001b[0;34m\u001b[0m\u001b[0m\n\u001b[1;32m    501\u001b[0m         \u001b[0;32mif\u001b[0m \u001b[0mas_dict\u001b[0m\u001b[0;34m:\u001b[0m\u001b[0;34m\u001b[0m\u001b[0;34m\u001b[0m\u001b[0m\n",
      "\u001b[0;32m/opt/conda/lib/python3.8/site-packages/yfinance/base.py\u001b[0m in \u001b[0;36m_get_fundamentals\u001b[0;34m(self, kind, proxy)\u001b[0m\n\u001b[1;32m    373\u001b[0m         \u001b[0;32mif\u001b[0m \u001b[0;32mnot\u001b[0m \u001b[0misinstance\u001b[0m\u001b[0;34m(\u001b[0m\u001b[0mdata\u001b[0m\u001b[0;34m.\u001b[0m\u001b[0mget\u001b[0m\u001b[0;34m(\u001b[0m\u001b[0;34m'summaryDetail'\u001b[0m\u001b[0;34m)\u001b[0m\u001b[0;34m,\u001b[0m \u001b[0mdict\u001b[0m\u001b[0;34m)\u001b[0m\u001b[0;34m:\u001b[0m\u001b[0;34m\u001b[0m\u001b[0;34m\u001b[0m\u001b[0m\n\u001b[1;32m    374\u001b[0m             \u001b[0;31m# For some reason summaryDetail did not give any results. The price dict usually has most of the same info\u001b[0m\u001b[0;34m\u001b[0m\u001b[0;34m\u001b[0m\u001b[0;34m\u001b[0m\u001b[0m\n\u001b[0;32m--> 375\u001b[0;31m             \u001b[0mself\u001b[0m\u001b[0;34m.\u001b[0m\u001b[0m_info\u001b[0m\u001b[0;34m.\u001b[0m\u001b[0mupdate\u001b[0m\u001b[0;34m(\u001b[0m\u001b[0mdata\u001b[0m\u001b[0;34m.\u001b[0m\u001b[0mget\u001b[0m\u001b[0;34m(\u001b[0m\u001b[0;34m'price'\u001b[0m\u001b[0;34m,\u001b[0m \u001b[0;34m{\u001b[0m\u001b[0;34m}\u001b[0m\u001b[0;34m)\u001b[0m\u001b[0;34m)\u001b[0m\u001b[0;34m\u001b[0m\u001b[0;34m\u001b[0m\u001b[0m\n\u001b[0m\u001b[1;32m    376\u001b[0m \u001b[0;34m\u001b[0m\u001b[0m\n\u001b[1;32m    377\u001b[0m         \u001b[0;32mtry\u001b[0m\u001b[0;34m:\u001b[0m\u001b[0;34m\u001b[0m\u001b[0;34m\u001b[0m\u001b[0m\n",
      "\u001b[0;31mTypeError\u001b[0m: 'NoneType' object is not iterable"
     ]
    }
   ],
   "source": [
    "lista = [\n",
    "             'longName',\n",
    "             'sector',\n",
    "             'industry',\n",
    "             'ebitdaMargins',\n",
    "             'profitMargins', \n",
    "             'revenueGrowth', \n",
    "             'operatingMargins',\n",
    "             'returnOnAssets',\n",
    "             'recommendationKey',\n",
    "             'recommendationMean',\n",
    "             'debtToEquity', \n",
    "             'totalCashPerShare', \n",
    "             'quickRatio', \n",
    "             'exchange',\n",
    "             'beta',\n",
    "             'enterpriseToEbitda', \n",
    "             'enterpriseToRevenue', \n",
    "             'bookValue', \n",
    "             'earningsQuarterlyGrowth', \n",
    "             'forwardPE',\n",
    "             'mostRecentQuarter',\n",
    "             'logo_url']\n",
    "\n",
    "for i in lista:\n",
    "    df_nas[i] = np.nan\n",
    "    \n",
    "    \n",
    "    \n",
    "for setor in list(df_nas['Sector'].unique()):\n",
    "    mask = df_nas['Sector'] == setor\n",
    "    simbolos  = list(df_nas.loc[mask, 'Symbol'].unique())\n",
    "    print(setor)\n",
    "    for i in simbolos:\n",
    "        ticker_info = yf.Ticker(str(i))\n",
    "        info = ticker_info.get_info()\n",
    "        for l in lista:\n",
    "            mask = df_nas['Symbol'] == i\n",
    "            try:\n",
    "                df_nas.loc[mask, l] = info[l]\n",
    "            except:\n",
    "                df_nas.loc[mask, l] = np.nan\n",
    "    "
   ]
  },
  {
   "cell_type": "code",
   "execution_count": 26,
   "id": "pressing-reflection",
   "metadata": {},
   "outputs": [
    {
     "name": "stdout",
     "output_type": "stream",
     "text": [
      "Energy\n",
      "Public Utilities\n"
     ]
    }
   ],
   "source": [
    "for setor in ['Energy', 'Public Utilities']:\n",
    "    mask = df_nas['Sector'] == setor\n",
    "    simbolos  = list(df_nas.loc[mask, 'Symbol'].unique())\n",
    "    print(setor)\n",
    "    for i in simbolos:\n",
    "        ticker_info = yf.Ticker(str(i))\n",
    "        info = ticker_info.get_info()\n",
    "        for l in lista:\n",
    "            mask = df_nas['Symbol'] == i\n",
    "            try:\n",
    "                df_nas.loc[mask, l] = info[l]\n",
    "            except:\n",
    "                df_nas.loc[mask, l] = np.nan"
   ]
  },
  {
   "cell_type": "code",
   "execution_count": 48,
   "id": "lasting-yeast",
   "metadata": {},
   "outputs": [
    {
     "name": "stdout",
     "output_type": "stream",
     "text": [
      "No info\n"
     ]
    },
    {
     "ename": "TypeError",
     "evalue": "'NoneType' object is not iterable",
     "output_type": "error",
     "traceback": [
      "\u001b[0;31m---------------------------------------------------------------------------\u001b[0m",
      "\u001b[0;31mTypeError\u001b[0m                                 Traceback (most recent call last)",
      "\u001b[0;32m<ipython-input-48-1210d1d968ef>\u001b[0m in \u001b[0;36m<module>\u001b[0;34m\u001b[0m\n\u001b[1;32m      5\u001b[0m \u001b[0;32mfor\u001b[0m \u001b[0mi\u001b[0m \u001b[0;32min\u001b[0m \u001b[0msimbolos\u001b[0m\u001b[0;34m:\u001b[0m\u001b[0;34m\u001b[0m\u001b[0;34m\u001b[0m\u001b[0m\n\u001b[1;32m      6\u001b[0m     \u001b[0mticker_info\u001b[0m \u001b[0;34m=\u001b[0m \u001b[0myf\u001b[0m\u001b[0;34m.\u001b[0m\u001b[0mTicker\u001b[0m\u001b[0;34m(\u001b[0m\u001b[0mstr\u001b[0m\u001b[0;34m(\u001b[0m\u001b[0mi\u001b[0m\u001b[0;34m)\u001b[0m\u001b[0;34m)\u001b[0m\u001b[0;34m\u001b[0m\u001b[0;34m\u001b[0m\u001b[0m\n\u001b[0;32m----> 7\u001b[0;31m     \u001b[0minfo\u001b[0m \u001b[0;34m=\u001b[0m \u001b[0mticker_info\u001b[0m\u001b[0;34m.\u001b[0m\u001b[0mget_info\u001b[0m\u001b[0;34m(\u001b[0m\u001b[0;34m)\u001b[0m\u001b[0;34m\u001b[0m\u001b[0;34m\u001b[0m\u001b[0m\n\u001b[0m\u001b[1;32m      8\u001b[0m     \u001b[0;32mfor\u001b[0m \u001b[0ml\u001b[0m \u001b[0;32min\u001b[0m \u001b[0mlista\u001b[0m\u001b[0;34m:\u001b[0m\u001b[0;34m\u001b[0m\u001b[0;34m\u001b[0m\u001b[0m\n\u001b[1;32m      9\u001b[0m         \u001b[0mmask\u001b[0m \u001b[0;34m=\u001b[0m \u001b[0mdf_nas\u001b[0m\u001b[0;34m[\u001b[0m\u001b[0;34m'Symbol'\u001b[0m\u001b[0;34m]\u001b[0m \u001b[0;34m==\u001b[0m \u001b[0mi\u001b[0m\u001b[0;34m\u001b[0m\u001b[0;34m\u001b[0m\u001b[0m\n",
      "\u001b[0;32m/opt/conda/lib/python3.8/site-packages/yfinance/base.py\u001b[0m in \u001b[0;36mget_info\u001b[0;34m(self, proxy, as_dict, *args, **kwargs)\u001b[0m\n\u001b[1;32m    497\u001b[0m \u001b[0;34m\u001b[0m\u001b[0m\n\u001b[1;32m    498\u001b[0m     \u001b[0;32mdef\u001b[0m \u001b[0mget_info\u001b[0m\u001b[0;34m(\u001b[0m\u001b[0mself\u001b[0m\u001b[0;34m,\u001b[0m \u001b[0mproxy\u001b[0m\u001b[0;34m=\u001b[0m\u001b[0;32mNone\u001b[0m\u001b[0;34m,\u001b[0m \u001b[0mas_dict\u001b[0m\u001b[0;34m=\u001b[0m\u001b[0;32mFalse\u001b[0m\u001b[0;34m,\u001b[0m \u001b[0;34m*\u001b[0m\u001b[0margs\u001b[0m\u001b[0;34m,\u001b[0m \u001b[0;34m**\u001b[0m\u001b[0mkwargs\u001b[0m\u001b[0;34m)\u001b[0m\u001b[0;34m:\u001b[0m\u001b[0;34m\u001b[0m\u001b[0;34m\u001b[0m\u001b[0m\n\u001b[0;32m--> 499\u001b[0;31m         \u001b[0mself\u001b[0m\u001b[0;34m.\u001b[0m\u001b[0m_get_fundamentals\u001b[0m\u001b[0;34m(\u001b[0m\u001b[0mproxy\u001b[0m\u001b[0;34m=\u001b[0m\u001b[0mproxy\u001b[0m\u001b[0;34m)\u001b[0m\u001b[0;34m\u001b[0m\u001b[0;34m\u001b[0m\u001b[0m\n\u001b[0m\u001b[1;32m    500\u001b[0m         \u001b[0mdata\u001b[0m \u001b[0;34m=\u001b[0m \u001b[0mself\u001b[0m\u001b[0;34m.\u001b[0m\u001b[0m_info\u001b[0m\u001b[0;34m\u001b[0m\u001b[0;34m\u001b[0m\u001b[0m\n\u001b[1;32m    501\u001b[0m         \u001b[0;32mif\u001b[0m \u001b[0mas_dict\u001b[0m\u001b[0;34m:\u001b[0m\u001b[0;34m\u001b[0m\u001b[0;34m\u001b[0m\u001b[0m\n",
      "\u001b[0;32m/opt/conda/lib/python3.8/site-packages/yfinance/base.py\u001b[0m in \u001b[0;36m_get_fundamentals\u001b[0;34m(self, kind, proxy)\u001b[0m\n\u001b[1;32m    373\u001b[0m         \u001b[0;32mif\u001b[0m \u001b[0;32mnot\u001b[0m \u001b[0misinstance\u001b[0m\u001b[0;34m(\u001b[0m\u001b[0mdata\u001b[0m\u001b[0;34m.\u001b[0m\u001b[0mget\u001b[0m\u001b[0;34m(\u001b[0m\u001b[0;34m'summaryDetail'\u001b[0m\u001b[0;34m)\u001b[0m\u001b[0;34m,\u001b[0m \u001b[0mdict\u001b[0m\u001b[0;34m)\u001b[0m\u001b[0;34m:\u001b[0m\u001b[0;34m\u001b[0m\u001b[0;34m\u001b[0m\u001b[0m\n\u001b[1;32m    374\u001b[0m             \u001b[0;31m# For some reason summaryDetail did not give any results. The price dict usually has most of the same info\u001b[0m\u001b[0;34m\u001b[0m\u001b[0;34m\u001b[0m\u001b[0;34m\u001b[0m\u001b[0m\n\u001b[0;32m--> 375\u001b[0;31m             \u001b[0mself\u001b[0m\u001b[0;34m.\u001b[0m\u001b[0m_info\u001b[0m\u001b[0;34m.\u001b[0m\u001b[0mupdate\u001b[0m\u001b[0;34m(\u001b[0m\u001b[0mdata\u001b[0m\u001b[0;34m.\u001b[0m\u001b[0mget\u001b[0m\u001b[0;34m(\u001b[0m\u001b[0;34m'price'\u001b[0m\u001b[0;34m,\u001b[0m \u001b[0;34m{\u001b[0m\u001b[0;34m}\u001b[0m\u001b[0;34m)\u001b[0m\u001b[0;34m)\u001b[0m\u001b[0;34m\u001b[0m\u001b[0;34m\u001b[0m\u001b[0m\n\u001b[0m\u001b[1;32m    376\u001b[0m \u001b[0;34m\u001b[0m\u001b[0m\n\u001b[1;32m    377\u001b[0m         \u001b[0;32mtry\u001b[0m\u001b[0;34m:\u001b[0m\u001b[0;34m\u001b[0m\u001b[0;34m\u001b[0m\u001b[0m\n",
      "\u001b[0;31mTypeError\u001b[0m: 'NoneType' object is not iterable"
     ]
    }
   ],
   "source": [
    "    setor = 'No info'\n",
    "    mask = df_nas['Sector'] == setor\n",
    "    simbolos  = list(df_nas.loc[mask, 'Symbol'].unique())\n",
    "    print(setor)\n",
    "    for i in simbolos:\n",
    "        ticker_info = yf.Ticker(str(i))\n",
    "        info = ticker_info.get_info()\n",
    "        for l in lista:\n",
    "            mask = df_nas['Symbol'] == i\n",
    "            try:\n",
    "                df_nas.loc[mask, l] = info[l]\n",
    "            except:\n",
    "                df_nas.loc[mask, l] = np.nan"
   ]
  },
  {
   "cell_type": "code",
   "execution_count": null,
   "id": "corrected-alignment",
   "metadata": {},
   "outputs": [],
   "source": [
    "simbolos = simbolos[993:]"
   ]
  },
  {
   "cell_type": "code",
   "execution_count": 67,
   "id": "intellectual-smell",
   "metadata": {},
   "outputs": [],
   "source": [
    "    for i in simbolos:\n",
    "        ticker_info = yf.Ticker(str(i))\n",
    "        info = ticker_info.get_info()\n",
    "        for l in lista:\n",
    "            mask = df_nas['Symbol'] == i\n",
    "            try:\n",
    "                df_nas.loc[mask, l] = info[l]\n",
    "            except:\n",
    "                df_nas.loc[mask, l] = np.nan"
   ]
  },
  {
   "cell_type": "code",
   "execution_count": 5,
   "id": "polyphonic-arabic",
   "metadata": {},
   "outputs": [],
   "source": [
    "df_nas['mostRecentQuarter'] = df_nas.apply(lambda x: num_to_time(x['mostRecentQuarter']) ,axis=1)"
   ]
  },
  {
   "cell_type": "code",
   "execution_count": 66,
   "id": "stunning-purpose",
   "metadata": {},
   "outputs": [],
   "source": [
    "mask = df_nas['longName'].isna()\n",
    "\n",
    "df_nas.loc[mask, 'longName'] = df_nas.loc[mask, 'Name']"
   ]
  },
  {
   "cell_type": "code",
   "execution_count": null,
   "id": "major-glass",
   "metadata": {},
   "outputs": [],
   "source": [
    "df_nas.to_csv('NASDAQ.csv')"
   ]
  },
  {
   "cell_type": "code",
   "execution_count": null,
   "id": "communist-integrity",
   "metadata": {},
   "outputs": [],
   "source": []
  }
 ],
 "metadata": {
  "kernelspec": {
   "display_name": "Python 3",
   "language": "python",
   "name": "python3"
  },
  "language_info": {
   "codemirror_mode": {
    "name": "ipython",
    "version": 3
   },
   "file_extension": ".py",
   "mimetype": "text/x-python",
   "name": "python",
   "nbconvert_exporter": "python",
   "pygments_lexer": "ipython3",
   "version": "3.8.5"
  }
 },
 "nbformat": 4,
 "nbformat_minor": 5
}
