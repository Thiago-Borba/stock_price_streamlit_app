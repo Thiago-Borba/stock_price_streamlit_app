{
 "cells": [
  {
   "cell_type": "code",
   "execution_count": 12,
   "id": "facial-ethnic",
   "metadata": {},
   "outputs": [],
   "source": [
    "import pandas as pd\n",
    "import yfinance as yf\n",
    "import requests\n",
    "from bs4 import BeautifulSoup\n",
    "#import altair as alt\n",
    "#from typing import Tuple\n",
    "#import plotly.graph_objects as go\n",
    "import pandas as pd\n",
    "from datetime import datetime\n",
    "#import mplfinance as fplt\n",
    "import numpy as np"
   ]
  },
  {
   "cell_type": "code",
   "execution_count": 13,
   "id": "hybrid-belle",
   "metadata": {},
   "outputs": [],
   "source": [
    "def y_update_finantial_sheet(dataFrame):\n",
    "    \n",
    "    \n",
    "    simbolos  = list(dataFrame['Symbol'].unique())\n",
    "    \n",
    "    \n",
    "    dataFrame = dataFrame\n",
    "    \n",
    "    lista = [\n",
    "             'longName', \n",
    "             'ebitdaMargins',\n",
    "             'profitMargins', \n",
    "             'revenueGrowth', \n",
    "             'operatingMargins',\n",
    "             'returnOnAssets',\n",
    "             'recommendationKey',\n",
    "             'recommendationMean',\n",
    "             'debtToEquity', \n",
    "             'totalCashPerShare', \n",
    "             'quickRatio', \n",
    "             'exchange',\n",
    "             'beta',\n",
    "             'enterpriseToEbitda', \n",
    "             'enterpriseToRevenue', \n",
    "             'bookValue', \n",
    "             'earningsQuarterlyGrowth', \n",
    "             'forwardPE',\n",
    "             'mostRecentQuarter',\n",
    "             'logo_url']\n",
    "    \n",
    "    for i in lista:\n",
    "        dataFrame[i] = np.nan\n",
    "    \n",
    "    \n",
    "    for i in simbolos:\n",
    "        ticker_info = yf.Ticker(str(i))\n",
    "        info = ticker_info.get_info()\n",
    "        for l in lista:\n",
    "            mask = dataFrame['Symbol'] == i\n",
    "            try:\n",
    "                dataFrame.loc[mask, l] = info[l]\n",
    "            except:\n",
    "                dataFrame.loc[mask, l] = np.nan\n",
    "    \n",
    "    #for i in lista:\n",
    "        #dataFrame[i] = np.nan\n",
    "        \n",
    "    \n",
    "    #for i in lista:\n",
    "        #dataFrame[i] = dataFrame.apply(lambda x: return_info(x['Symbol'],i),axis=1)\n",
    "        \n",
    "    \n",
    "    return dataFrame"
   ]
  },
  {
   "cell_type": "code",
   "execution_count": null,
   "id": "hollow-avenue",
   "metadata": {},
   "outputs": [],
   "source": [
    "def num_to_time(date):\n",
    "    try:\n",
    "        timestamp = datetime.fromtimestamp(date).strftime('%Y-%m-%d')\n",
    "    \n",
    "    except:\n",
    "        timestamp = \"No info\"\n",
    "    \n",
    "    return timestamp"
   ]
  },
  {
   "cell_type": "code",
   "execution_count": 14,
   "id": "joint-horizon",
   "metadata": {},
   "outputs": [],
   "source": [
    "df_nas = pd.read_csv('nasdaq_screener_1629062295312.csv')"
   ]
  },
  {
   "cell_type": "code",
   "execution_count": 15,
   "id": "outside-convention",
   "metadata": {},
   "outputs": [],
   "source": [
    "df_nas = df_nas[['Sector', 'Industry','Name',\"Symbol\",'Volume', 'Market Cap']]"
   ]
  },
  {
   "cell_type": "code",
   "execution_count": null,
   "id": "angry-forwarding",
   "metadata": {},
   "outputs": [],
   "source": [
    "teste = y_update_finantial_sheet(df_nas)\n",
    "teste.to_csv('NASDAQ.csv')\n",
    "print('i')"
   ]
  },
  {
   "cell_type": "code",
   "execution_count": null,
   "id": "substantial-publication",
   "metadata": {},
   "outputs": [],
   "source": [
    "teste"
   ]
  },
  {
   "cell_type": "code",
   "execution_count": 19,
   "id": "matched-solid",
   "metadata": {},
   "outputs": [
    {
     "name": "stdout",
     "output_type": "stream",
     "text": [
      "i\n"
     ]
    }
   ],
   "source": [
    "print('i')"
   ]
  },
  {
   "cell_type": "code",
   "execution_count": null,
   "id": "historical-cartoon",
   "metadata": {},
   "outputs": [],
   "source": [
    "def um_por_um(dataFrame):\n",
    "    \n",
    "    \n",
    "    simbolos  = list(dataFrame['Symbol'].unique())\n",
    "    \n",
    "    \n",
    "    dataFrame = dataFrame\n",
    "    \n",
    "\n",
    "    \n",
    "    for i in lista:\n",
    "        dataFrame[i] = np.nan\n",
    "    \n",
    "    \n",
    "    for i in simbolos:\n",
    "        ticker_info = yf.Ticker(str(i))\n",
    "        info = ticker_info.get_info()\n",
    "        for l in lista:\n",
    "            mask = dataFrame['Symbol'] == i\n",
    "            try:\n",
    "                dataFrame.loc[mask, l] = info[l]\n",
    "            except:\n",
    "                dataFrame.loc[mask, l] = np.nan\n",
    "    \n",
    "    #for i in lista:\n",
    "        #dataFrame[i] = np.nan\n",
    "        \n",
    "    \n",
    "    #for i in lista:\n",
    "        #dataFrame[i] = dataFrame.apply(lambda x: return_info(x['Symbol'],i),axis=1)\n",
    "        \n",
    "    \n",
    "    return dataFrame"
   ]
  },
  {
   "cell_type": "code",
   "execution_count": null,
   "id": "geological-hearts",
   "metadata": {},
   "outputs": [
    {
     "name": "stdout",
     "output_type": "stream",
     "text": [
      "Capital Goods\n",
      "Basic Industries\n",
      "Finance\n"
     ]
    }
   ],
   "source": [
    "lista = [\n",
    "             'longName', \n",
    "             'ebitdaMargins',\n",
    "             'profitMargins', \n",
    "             'revenueGrowth', \n",
    "             'operatingMargins',\n",
    "             'returnOnAssets',\n",
    "             'recommendationKey',\n",
    "             'recommendationMean',\n",
    "             'debtToEquity', \n",
    "             'totalCashPerShare', \n",
    "             'quickRatio', \n",
    "             'exchange',\n",
    "             'beta',\n",
    "             'enterpriseToEbitda', \n",
    "             'enterpriseToRevenue', \n",
    "             'bookValue', \n",
    "             'earningsQuarterlyGrowth', \n",
    "             'forwardPE',\n",
    "             'mostRecentQuarter',\n",
    "             'logo_url']\n",
    "\n",
    "for i in lista:\n",
    "    df_nas[i] = np.nan\n",
    "    \n",
    "    \n",
    "    \n",
    "for setor in list(df_nas['Sector'].unique()):\n",
    "    mask = df_nas['Sector'] == setor\n",
    "    simbolos  = list(df_nas.loc[mask, 'Symbol'].unique())\n",
    "    print(setor)\n",
    "    for i in simbolos:\n",
    "        ticker_info = yf.Ticker(str(i))\n",
    "        info = ticker_info.get_info()\n",
    "        for l in lista:\n",
    "            mask = df_nas['Symbol'] == i\n",
    "            try:\n",
    "                df_nas.loc[mask, l] = info[l]\n",
    "            except:\n",
    "                df_nas.loc[mask, l] = np.nan\n",
    "    "
   ]
  },
  {
   "cell_type": "code",
   "execution_count": null,
   "id": "yellow-consortium",
   "metadata": {},
   "outputs": [],
   "source": []
  },
  {
   "cell_type": "code",
   "execution_count": null,
   "id": "stunning-finnish",
   "metadata": {},
   "outputs": [],
   "source": [
    "df_nas"
   ]
  },
  {
   "cell_type": "code",
   "execution_count": 21,
   "id": "considered-alberta",
   "metadata": {},
   "outputs": [],
   "source": [
    "df_nas.to_csv('NASDAQ.csv')"
   ]
  },
  {
   "cell_type": "code",
   "execution_count": null,
   "id": "animated-weekend",
   "metadata": {},
   "outputs": [],
   "source": [
    "print('i')"
   ]
  },
  {
   "cell_type": "code",
   "execution_count": null,
   "id": "functioning-membership",
   "metadata": {},
   "outputs": [],
   "source": []
  }
 ],
 "metadata": {
  "kernelspec": {
   "display_name": "Python 3",
   "language": "python",
   "name": "python3"
  },
  "language_info": {
   "codemirror_mode": {
    "name": "ipython",
    "version": 3
   },
   "file_extension": ".py",
   "mimetype": "text/x-python",
   "name": "python",
   "nbconvert_exporter": "python",
   "pygments_lexer": "ipython3",
   "version": "3.8.5"
  }
 },
 "nbformat": 4,
 "nbformat_minor": 5
}
