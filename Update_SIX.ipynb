{
 "cells": [
  {
   "cell_type": "code",
   "execution_count": 3,
   "id": "photographic-carolina",
   "metadata": {},
   "outputs": [],
   "source": [
    "import pandas as pd\n",
    "import yfinance as yf\n",
    "import requests\n",
    "from bs4 import BeautifulSoup\n",
    "#import altair as alt\n",
    "#from typing import Tuple\n",
    "#import plotly.graph_objects as go\n",
    "import pandas as pd\n",
    "from datetime import datetime\n",
    "#import mplfinance as fplt\n",
    "import numpy as np"
   ]
  },
  {
   "cell_type": "code",
   "execution_count": 4,
   "id": "leading-coral",
   "metadata": {},
   "outputs": [],
   "source": [
    "def six_update_finantial_sheet(dataFrame):\n",
    "    \n",
    "    \n",
    "    simbolos  = list(dataFrame['Ticker'].unique())\n",
    "    \n",
    "    \n",
    "    dataFrame = dataFrame\n",
    "    \n",
    "    lista = [\n",
    "             'sector',\n",
    "             'industry',\n",
    "             'ebitdaMargins',\n",
    "             'profitMargins', \n",
    "             'revenueGrowth', \n",
    "             'operatingMargins',\n",
    "             'returnOnAssets',\n",
    "             'recommendationKey',\n",
    "             'recommendationMean',\n",
    "             'debtToEquity', \n",
    "             'totalCashPerShare', \n",
    "             'quickRatio', \n",
    "             'exchange',\n",
    "             'beta',\n",
    "             'enterpriseToEbitda', \n",
    "             'enterpriseToRevenue', \n",
    "             'bookValue', \n",
    "             'earningsQuarterlyGrowth', \n",
    "             'forwardPE',\n",
    "             'mostRecentQuarter',\n",
    "             'logo_url']\n",
    "    \n",
    "    for i in lista:\n",
    "        dataFrame[i] = np.nan\n",
    "    \n",
    "    \n",
    "    for i in simbolos:\n",
    "        ticker_info = yf.Ticker(str(i))\n",
    "        info = ticker_info.get_info()\n",
    "        for l in lista:\n",
    "            mask = dataFrame['Ticker'] == i\n",
    "            print('i')\n",
    "            try:\n",
    "                dataFrame.loc[mask, l] = info[l]\n",
    "            except:\n",
    "                dataFrame.loc[mask, l] = np.nan\n",
    "    \n",
    "    #for i in lista:\n",
    "        #dataFrame[i] = np.nan\n",
    "        \n",
    "    \n",
    "    #for i in lista:\n",
    "        #dataFrame[i] = dataFrame.apply(lambda x: return_info(x['Symbol'],i),axis=1)\n",
    "        \n",
    "    \n",
    "    return dataFrame"
   ]
  },
  {
   "cell_type": "code",
   "execution_count": 5,
   "id": "complex-technical",
   "metadata": {},
   "outputs": [],
   "source": [
    "def num_to_time(date):\n",
    "    try:\n",
    "        timestamp = datetime.fromtimestamp(date).strftime('%Y-%m-%d')\n",
    "    \n",
    "    except:\n",
    "        timestamp = \"No info\"\n",
    "    \n",
    "    return timestamp"
   ]
  },
  {
   "cell_type": "code",
   "execution_count": null,
   "id": "cognitive-consent",
   "metadata": {},
   "outputs": [],
   "source": [
    "df_six = pd.read_csv('equity_issuers.csv', sep = ';', encoding  = 'ISO-8859-1')"
   ]
  },
  {
   "cell_type": "code",
   "execution_count": null,
   "id": "nuclear-newcastle",
   "metadata": {},
   "outputs": [],
   "source": [
    "df_six['Ticker'] = df_six['Symbol'] + \".SW\""
   ]
  },
  {
   "cell_type": "code",
   "execution_count": null,
   "id": "starting-harbor",
   "metadata": {},
   "outputs": [],
   "source": [
    "df_six = df_six[['Company', \"Symbol\", 'Country', 'Class of Share', \"Traded Currency\", \"Primary listing\", \"Valor Number\", \"Ticker\"]]"
   ]
  },
  {
   "cell_type": "code",
   "execution_count": null,
   "id": "tested-screw",
   "metadata": {},
   "outputs": [],
   "source": [
    "df_six = six_update_finantial_sheet(df_six)"
   ]
  },
  {
   "cell_type": "code",
   "execution_count": 7,
   "id": "confirmed-dimension",
   "metadata": {},
   "outputs": [],
   "source": [
    "df_six['mostRecentQuarter'] = df_six.apply(lambda x: num_to_time(x['mostRecentQuarter']) ,axis=1)"
   ]
  },
  {
   "cell_type": "code",
   "execution_count": 11,
   "id": "heated-parent",
   "metadata": {},
   "outputs": [],
   "source": [
    "df_six.to_csv('SIX.csv')"
   ]
  },
  {
   "cell_type": "code",
   "execution_count": 6,
   "id": "meaningful-colon",
   "metadata": {},
   "outputs": [],
   "source": [
    "df_six = pd.read_csv('SIX.csv', encoding  = 'UTF-8')"
   ]
  },
  {
   "cell_type": "code",
   "execution_count": 10,
   "id": "sacred-briefing",
   "metadata": {},
   "outputs": [
    {
     "data": {
      "text/plain": [
       "0      2021-06-30\n",
       "1      2021-06-30\n",
       "2      2021-06-30\n",
       "3      2020-12-31\n",
       "4      2021-06-30\n",
       "          ...    \n",
       "245    2020-12-31\n",
       "246    2021-06-30\n",
       "247    2020-12-31\n",
       "248    2020-12-31\n",
       "249    2020-12-31\n",
       "Name: mostRecentQuarter, Length: 250, dtype: object"
      ]
     },
     "execution_count": 10,
     "metadata": {},
     "output_type": "execute_result"
    }
   ],
   "source": [
    "df_six['mostRecentQuarter']"
   ]
  },
  {
   "cell_type": "code",
   "execution_count": null,
   "id": "sitting-ethiopia",
   "metadata": {},
   "outputs": [],
   "source": []
  }
 ],
 "metadata": {
  "kernelspec": {
   "display_name": "Python 3",
   "language": "python",
   "name": "python3"
  },
  "language_info": {
   "codemirror_mode": {
    "name": "ipython",
    "version": 3
   },
   "file_extension": ".py",
   "mimetype": "text/x-python",
   "name": "python",
   "nbconvert_exporter": "python",
   "pygments_lexer": "ipython3",
   "version": "3.8.8"
  }
 },
 "nbformat": 4,
 "nbformat_minor": 5
}
